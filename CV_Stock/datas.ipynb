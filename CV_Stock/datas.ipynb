{
 "cells": [
  {
   "cell_type": "code",
   "execution_count": 1,
   "metadata": {},
   "outputs": [],
   "source": [
    "import numpy as np\n",
    "import matplotlib.pyplot as plt\n",
    "from sklearn.preprocessing import MinMaxScaler\n",
    "import yfinance as yf\n",
    "import numpy as np\n",
    "import os\n",
    "import pickle\n",
    "import gc\n",
    "from tqdm import tqdm\n",
    "import torch\n",
    "import torch.nn as nn\n",
    "from torch.utils.data import DataLoader, TensorDataset\n",
    "from sklearn.preprocessing import Normalizer, StandardScaler\n",
    "from utils import *"
   ]
  },
  {
   "cell_type": "code",
   "execution_count": 2,
   "metadata": {},
   "outputs": [
    {
     "name": "stderr",
     "output_type": "stream",
     "text": [
      "/home/jacob/anaconda3/envs/mlntu/lib/python3.10/site-packages/yfinance/utils.py:775: FutureWarning: The 'unit' keyword in TimedeltaIndex construction is deprecated and will be removed in a future version. Use pd.to_timedelta instead.\n",
      "  df.index += _pd.TimedeltaIndex(dst_error_hours, 'h')\n",
      "/tmp/ipykernel_43464/2270365970.py:37: SettingWithCopyWarning: \n",
      "A value is trying to be set on a copy of a slice from a DataFrame.\n",
      "Try using .loc[row_indexer,col_indexer] = value instead\n",
      "\n",
      "See the caveats in the documentation: https://pandas.pydata.org/pandas-docs/stable/user_guide/indexing.html#returning-a-view-versus-a-copy\n",
      "  df[['do', 'dh', 'dl', 'dc', 'dv']] = scaler.fit_transform(df[['do', 'dh', 'dl', 'dc', 'dv']])\n"
     ]
    }
   ],
   "source": [
    "stock_symbol = '5871.TW'\n",
    "device = torch.device('cuda' if torch.cuda.is_available() else 'cpu')\n",
    "num_class = 1\n",
    "batch_size = 32\n",
    "data_mode = 'traintest'\n",
    "stock_symbol = '5871.TW'\n",
    "end_date = '2024-12-31'\n",
    "\n",
    "# 擷取股票價格資訊\n",
    "scaler = StandardScaler()\n",
    "stock_price_data = fetch_stock_price(stock_symbol=stock_symbol, start_date='2012-01-02',end_date=end_date)\n",
    "\n",
    "stock_price_data['do'] = stock_price_data['Open'].pct_change()\n",
    "stock_price_data['dh'] = stock_price_data['High'].pct_change()\n",
    "stock_price_data['dl'] = stock_price_data['Low'].pct_change()\n",
    "stock_price_data['dc'] = stock_price_data['Close'].pct_change()\n",
    "stock_price_data['dv'] = stock_price_data['Volume'].pct_change()\n",
    "\n",
    "stock_price_data['do_1'] = stock_price_data['do'].shift(-1)\n",
    "stock_price_data['dc_1'] = stock_price_data['dc'].shift(-1)\n",
    "stock_price_data['doc_1'] = \\\n",
    "    (stock_price_data['Close'].shift(-1) - stock_price_data['Open'].shift(-1))/stock_price_data['Open'].shift(-1)\n",
    "\n",
    "stock_price_data = stock_price_data.dropna()\n",
    "\n",
    "# df = stock_price_data.iloc[:,7:]\n",
    "df = stock_price_data\n",
    "# Replace infinite values with NaN\n",
    "df.replace([np.inf, -np.inf], np.nan, inplace=True)\n",
    "\n",
    "# Drop rows with NaN values\n",
    "df = df.dropna()\n",
    "\n",
    "# scaling\n",
    "scaler = StandardScaler()\n",
    "scaler.fit(df[['do', 'dh', 'dl', 'dc', 'dv']][:2000])\n",
    "df[['do', 'dh', 'dl', 'dc', 'dv']] = scaler.fit_transform(df[['do', 'dh', 'dl', 'dc', 'dv']])\n"
   ]
  },
  {
   "cell_type": "code",
   "execution_count": 3,
   "metadata": {},
   "outputs": [
    {
     "name": "stderr",
     "output_type": "stream",
     "text": [
      "100%|██████████| 2849/2849 [00:03<00:00, 777.10it/s]\n",
      "100%|██████████| 2849/2849 [00:25<00:00, 111.27it/s]\n"
     ]
    }
   ],
   "source": [
    "x, y, date = window_x_y(df)\n",
    "X = process_x(x)\n",
    "X, x_test, y, y_test = train_test(X, y)\n",
    "x_train, x_valid, y_train, y_valid = train_valid(X, y)\n",
    "\n",
    "\"\"\" Standard\n",
    "mean = torch.mean(x_train)\n",
    "std = torch.std(x_train)\n",
    "print(std)\n",
    "x_train = normalize(x_train, mean, std)\n",
    "mean = torch.mean(x_valid)\n",
    "std = torch.std(x_valid)\n",
    "print(std)\n",
    "x_valid = normalize(x_valid, mean, std)\n",
    "x_test = normalize(x_test, mean, std)\n",
    "\"\"\"\n",
    "\n",
    "trainloader, validloader, testloader = (\n",
    "    loader(x_train.cpu(), torch.tensor(y_train).to(dtype=torch.float32), batch_size=batch_size), \n",
    "    loader(x_valid.cpu(), torch.tensor(y_valid).to(dtype=torch.float32), batch_size=batch_size),\n",
    "    loader(x_test.cpu(), torch.tensor(y_test).to(dtype=torch.float32), batch_size=batch_size)\n",
    "    )    \n",
    "test_date = df.index[-len(y_test):]\n",
    "\n",
    "with open('./DataLoader/dataloader_1.pk', 'wb') as f:\n",
    "    pickle.dump({'trainloader': trainloader, 'validloader': validloader, 'testloader': testloader}, f)\n",
    "with open('DataLoader/dates.pk', 'wb') as f:\n",
    "    pickle.dump({'test': test_date}, f)\n",
    "with open('DataLoader/data_clean.pk', 'wb') as f:\n",
    "    pickle.dump(df, f)"
   ]
  },
  {
   "cell_type": "code",
   "execution_count": 4,
   "metadata": {},
   "outputs": [
    {
     "data": {
      "text/plain": [
       "(torch.Size([2051, 5, 100, 100]),\n",
       " tensor([[ 0.0000, -0.6232,  1.7037,  ...,  2.3714, -0.0692, -0.0174],\n",
       "         [ 0.0000,  0.0000,  2.3269,  ...,  2.9946,  0.5539,  0.6058],\n",
       "         [-0.0000, -0.0000,  0.0000,  ...,  0.6677, -1.7729, -1.7211],\n",
       "         ...,\n",
       "         [-0.0000, -0.0000, -0.0000,  ...,  0.0000, -2.4407, -2.3888],\n",
       "         [ 0.0000, -0.0000,  0.0000,  ...,  0.0000,  0.0000,  0.0519],\n",
       "         [ 0.0000, -0.0000,  0.0000,  ...,  0.0000, -0.0000,  0.0000]],\n",
       "        device='cuda:0'))"
      ]
     },
     "execution_count": 4,
     "metadata": {},
     "output_type": "execute_result"
    }
   ],
   "source": [
    "torch.max(torch.abs(x_train)), torch.min(torch.std(x_train, dim=0))\n",
    "torch.std(x_train, dim=0)\n",
    "x_train.shape, x_train[0, 0]"
   ]
  },
  {
   "cell_type": "code",
   "execution_count": 5,
   "metadata": {},
   "outputs": [
    {
     "data": {
      "text/html": [
       "<div>\n",
       "<style scoped>\n",
       "    .dataframe tbody tr th:only-of-type {\n",
       "        vertical-align: middle;\n",
       "    }\n",
       "\n",
       "    .dataframe tbody tr th {\n",
       "        vertical-align: top;\n",
       "    }\n",
       "\n",
       "    .dataframe thead th {\n",
       "        text-align: right;\n",
       "    }\n",
       "</style>\n",
       "<table border=\"1\" class=\"dataframe\">\n",
       "  <thead>\n",
       "    <tr style=\"text-align: right;\">\n",
       "      <th></th>\n",
       "      <th>0</th>\n",
       "    </tr>\n",
       "    <tr>\n",
       "      <th>Date</th>\n",
       "      <th></th>\n",
       "    </tr>\n",
       "  </thead>\n",
       "  <tbody>\n",
       "    <tr>\n",
       "      <th>2022-12-12 00:00:00+08:00</th>\n",
       "      <td>-0.009456</td>\n",
       "    </tr>\n",
       "    <tr>\n",
       "      <th>2022-12-13 00:00:00+08:00</th>\n",
       "      <td>0.009456</td>\n",
       "    </tr>\n",
       "    <tr>\n",
       "      <th>2022-12-14 00:00:00+08:00</th>\n",
       "      <td>0.025701</td>\n",
       "    </tr>\n",
       "    <tr>\n",
       "      <th>2022-12-15 00:00:00+08:00</th>\n",
       "      <td>0.000000</td>\n",
       "    </tr>\n",
       "    <tr>\n",
       "      <th>2022-12-16 00:00:00+08:00</th>\n",
       "      <td>0.023474</td>\n",
       "    </tr>\n",
       "    <tr>\n",
       "      <th>...</th>\n",
       "      <td>...</td>\n",
       "    </tr>\n",
       "    <tr>\n",
       "      <th>2024-02-16 00:00:00+08:00</th>\n",
       "      <td>0.005780</td>\n",
       "    </tr>\n",
       "    <tr>\n",
       "      <th>2024-02-19 00:00:00+08:00</th>\n",
       "      <td>0.017192</td>\n",
       "    </tr>\n",
       "    <tr>\n",
       "      <th>2024-02-20 00:00:00+08:00</th>\n",
       "      <td>-0.008451</td>\n",
       "    </tr>\n",
       "    <tr>\n",
       "      <th>2024-02-21 00:00:00+08:00</th>\n",
       "      <td>-0.002833</td>\n",
       "    </tr>\n",
       "    <tr>\n",
       "      <th>2024-02-22 00:00:00+08:00</th>\n",
       "      <td>0.002849</td>\n",
       "    </tr>\n",
       "  </tbody>\n",
       "</table>\n",
       "<p>285 rows × 1 columns</p>\n",
       "</div>"
      ],
      "text/plain": [
       "                                  0\n",
       "Date                               \n",
       "2022-12-12 00:00:00+08:00 -0.009456\n",
       "2022-12-13 00:00:00+08:00  0.009456\n",
       "2022-12-14 00:00:00+08:00  0.025701\n",
       "2022-12-15 00:00:00+08:00  0.000000\n",
       "2022-12-16 00:00:00+08:00  0.023474\n",
       "...                             ...\n",
       "2024-02-16 00:00:00+08:00  0.005780\n",
       "2024-02-19 00:00:00+08:00  0.017192\n",
       "2024-02-20 00:00:00+08:00 -0.008451\n",
       "2024-02-21 00:00:00+08:00 -0.002833\n",
       "2024-02-22 00:00:00+08:00  0.002849\n",
       "\n",
       "[285 rows x 1 columns]"
      ]
     },
     "execution_count": 5,
     "metadata": {},
     "output_type": "execute_result"
    }
   ],
   "source": [
    "import pandas as pd\n",
    "pd.DataFrame(y_test).set_index(df.index[-len(y_test):])"
   ]
  }
 ],
 "metadata": {
  "kernelspec": {
   "display_name": "mlntu",
   "language": "python",
   "name": "python3"
  },
  "language_info": {
   "codemirror_mode": {
    "name": "ipython",
    "version": 3
   },
   "file_extension": ".py",
   "mimetype": "text/x-python",
   "name": "python",
   "nbconvert_exporter": "python",
   "pygments_lexer": "ipython3",
   "version": "3.10.13"
  }
 },
 "nbformat": 4,
 "nbformat_minor": 2
}
