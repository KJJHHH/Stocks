{
 "cells": [
  {
   "cell_type": "markdown",
   "metadata": {},
   "source": [
    "# Environment\n",
    "- Env: mlntu "
   ]
  },
  {
   "cell_type": "code",
   "execution_count": 60,
   "metadata": {},
   "outputs": [
    {
     "name": "stdout",
     "output_type": "stream",
     "text": [
      "The autoreload extension is already loaded. To reload it, use:\n",
      "  %reload_ext autoreload\n"
     ]
    },
    {
     "data": {
      "text/plain": [
       "('2.2.0',\n",
       " <module 'pickle5' from '/home/jacob/anaconda3/envs/mlntu/lib/python3.10/site-packages/pickle5/__init__.py'>)"
      ]
     },
     "execution_count": 60,
     "metadata": {},
     "output_type": "execute_result"
    }
   ],
   "source": [
    "%load_ext autoreload\n",
    "%autoreload 2\n",
    "from preprocess import *\n",
    "import pandas as pd\n",
    "import pickle5 as pickle\n",
    "import warnings\n",
    "warnings.filterwarnings('ignore')\n",
    "pd.__version__, pickle"
   ]
  },
  {
   "cell_type": "markdown",
   "metadata": {},
   "source": [
    "# Data"
   ]
  },
  {
   "cell_type": "markdown",
   "metadata": {},
   "source": [
    "- Data size not large enough"
   ]
  },
  {
   "cell_type": "markdown",
   "metadata": {},
   "source": [
    "### Load and Clean data"
   ]
  },
  {
   "cell_type": "code",
   "execution_count": 65,
   "metadata": {},
   "outputs": [],
   "source": [
    "with open('data/cross_section_integrate_stock.pk', 'rb') as f:\n",
    "    data_cross_section = pickle.load(f)\n",
    "\n",
    "# set a copy\n",
    "data_cross_section_backup = data_cross_section.copy()\n",
    "\n",
    "# column\n",
    "for i in data_cross_section.columns:\n",
    "    pass\n",
    "    # print(i)"
   ]
  },
  {
   "cell_type": "code",
   "execution_count": 53,
   "metadata": {},
   "outputs": [
    {
     "data": {
      "text/plain": [
       "array(['M1100 Cement', 'M1200 Foods',\n",
       "       'OTC33 OTC Agricultural Science and Technology',\n",
       "       'OTC27 OTC Tourism', 'OTC12 OTC Foods', 'M1300 Plastics',\n",
       "       'M2500 Building Material and Construction', 'M2200 Automobile',\n",
       "       'OTC23 OTC Electronic', 'M9900 Others'], dtype=object)"
      ]
     },
     "execution_count": 53,
     "metadata": {},
     "output_type": "execute_result"
    }
   ],
   "source": [
    "data_cross_section.Industry_Eng.unique()[:10]"
   ]
  },
  {
   "cell_type": "code",
   "execution_count": 66,
   "metadata": {},
   "outputs": [],
   "source": [
    "# set copy of row data\n",
    "data_cross_return = data_cross_section_backup.copy()\n",
    "\n",
    "# select data in single industry\n",
    "data_cross_section = select_industry(data_cross_section, 'M1600 Electrical and Cable')\n",
    "\n",
    "# group by coid\n",
    "\"data_group_coid: a list of df of each coid\"\n",
    "data_group_coid = group_by_coid(data_cross_section)\n",
    "\n",
    "# use the pct change of open, ... as X\n",
    "selected_coid = data_group_coid.keys()\n",
    "data_group_pct = price_change_dropna(data_group_coid, selected_coid)\n",
    "\n",
    "# rewards for each data: return of the days\n",
    "data_group_rewards = get_reward_for_holding_stock(data_group_pct)\n",
    "\n",
    "# set index\n",
    "data_group = set_index(data_group_rewards)"
   ]
  }
 ],
 "metadata": {
  "kernelspec": {
   "display_name": "mlntu",
   "language": "python",
   "name": "python3"
  },
  "language_info": {
   "codemirror_mode": {
    "name": "ipython",
    "version": 3
   },
   "file_extension": ".py",
   "mimetype": "text/x-python",
   "name": "python",
   "nbconvert_exporter": "python",
   "pygments_lexer": "ipython3",
   "version": "3.10.13"
  }
 },
 "nbformat": 4,
 "nbformat_minor": 2
}
