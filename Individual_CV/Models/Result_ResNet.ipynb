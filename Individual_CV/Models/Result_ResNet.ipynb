{
 "cells": [
  {
   "cell_type": "markdown",
   "metadata": {},
   "source": [
    "# Import and Loss"
   ]
  },
  {
   "cell_type": "code",
   "execution_count": 1,
   "metadata": {},
   "outputs": [
    {
     "name": "stderr",
     "output_type": "stream",
     "text": [
      "100%|██████████| 2863/2863 [00:03<00:00, 724.72it/s]\n",
      "100%|██████████| 2863/2863 [00:16<00:00, 173.29it/s]\n"
     ]
    },
    {
     "name": "stdout",
     "output_type": "stream",
     "text": [
      "x_train_len: 2543, valid_len: 160, test_len: 160\n"
     ]
    }
   ],
   "source": [
    "import sys\n",
    "sys.path.append('../')\n",
    "import matplotlib.pyplot as plt\n",
    "import numpy as np\n",
    "import pickle\n",
    "import torch\n",
    "import pandas as pd\n",
    "from sklearn.preprocessing import StandardScaler\n",
    "from datas import *\n",
    "from set_train import *\n",
    "from utils import *\n",
    "from utils_test import *\n",
    "from models.Resnet import *\n",
    "\n",
    "device = torch.device('cuda' if torch.cuda.is_available() else 'cpu')\n",
    "short = False\n",
    "stock_symbol, end_date, num_class, batch_size, init, fp16_training, num_epochs, lr = set_train()\n",
    "trainloader, validloader, testloader, test_date, df = data(stock_symbol, num_class, end_date, batch_size, window=100)\n",
    "model = resnet50(num_class).to(device)\n",
    "Model = model.model_type\n",
    "torch.cuda.empty_cache()"
   ]
  },
  {
   "cell_type": "markdown",
   "metadata": {},
   "source": [
    "### Loss Result"
   ]
  },
  {
   "cell_type": "code",
   "execution_count": 2,
   "metadata": {},
   "outputs": [
    {
     "name": "stdout",
     "output_type": "stream",
     "text": [
      "3.626483201980591\n"
     ]
    },
    {
     "data": {
      "image/png": "[encoded data removed]",
      "text/plain": [
       "<Figure size 1000x500 with 1 Axes>"
      ]
     },
     "metadata": {},
     "output_type": "display_data"
    }
   ],
   "source": [
    "with open(f'Temp/{Model}_class{num_class}_{stock_symbol}_LastTrainInfo.pk', 'rb') as f:\n",
    "    infos = pickle.load(f)\n",
    "    print(infos['min val loss'])\n",
    "\n",
    "with open(f'Temp/{Model}_class{num_class}_{stock_symbol}_TrainValHistLoss.pk', 'rb') as f:\n",
    "    results = pickle.load(f)\n",
    "    train_loss = results['train']\n",
    "    val_loss = results['valid']\n",
    "    \n",
    "with open('Model_Result/min_loss.json', 'a') as file:\n",
    "    import json\n",
    "    json.dump({f'{Model}_class{num_class}_{stock_symbol}': infos['min val loss']}, file)\n",
    "    file.write('\\n')\n",
    "    \n",
    "plt.figure(figsize=(10, 5))\n",
    "plt.plot(train_loss[:], label='train loss')\n",
    "plt.plot(val_loss[:], label='val loss')\n",
    "plt.legend()\n",
    "plt.savefig(f'Model_Result/{Model}_class{num_class}_{stock_symbol.split(\".\")[0]}_loss')\n",
    "plt.show()\n"
   ]
  },
  {
   "cell_type": "markdown",
   "metadata": {},
   "source": [
    "### Data"
   ]
  },
  {
   "cell_type": "code",
   "execution_count": 3,
   "metadata": {},
   "outputs": [],
   "source": [
    "pass"
   ]
  },
  {
   "cell_type": "markdown",
   "metadata": {},
   "source": [
    "# Backtest "
   ]
  },
  {
   "cell_type": "markdown",
   "metadata": {},
   "source": [
    "### Function"
   ]
  },
  {
   "cell_type": "code",
   "execution_count": 4,
   "metadata": {},
   "outputs": [],
   "source": [
    "def backtest_plot(normalize=False):\n",
    "    \n",
    "    # Prediction\n",
    "    model.load_state_dict(torch.load(f'Model_Result/{Model}_class{num_class}_{stock_symbol}_best_model.pt'))\n",
    "    model.eval()    \n",
    "    y_pred, acc = test(model, testloader)\n",
    "    y_train_pred, acc = test(model, validloader)\n",
    "    y_pred_numpy = y_pred.cpu().numpy()\n",
    "    prediction = pd.DataFrame(y_pred_numpy)\n",
    "        \n",
    "    # Scaling with predicted valid set\n",
    "    if normalize:\n",
    "        y_train_numpy = y_train_pred.detach().cpu().numpy()\n",
    "        scaler = StandardScaler()\n",
    "        scaler.fit(y_train_numpy)\n",
    "        prediction = pd.DataFrame(scaler.transform(prediction))\n",
    "        \n",
    "    # Column name\n",
    "    if num_class == 1:\n",
    "        prediction.columns = ['pred_doc_1']\n",
    "    else:\n",
    "        prediction.columns = ['pred_do_1', 'pred_dc_1']\n",
    "\n",
    "    # Merge on date. \n",
    "    #   In Encoder Decoder need to ignore the last batch if last batch's batch size != batch_size\n",
    "    #   so use date_test[:len(prediction)]\n",
    "    prediction['Date'] = test_date[:len(prediction)]\n",
    "    true_and_pred = pd.merge(df.reset_index(), prediction, on = 'Date', how = 'left')\n",
    "    \n",
    "    # Close is normalised while use Close in training, set Close to original\n",
    "    true_and_pred['Close'] = true_and_pred['Close_origin']\n",
    "    \n",
    "    # Get the predicted doc_1. If class == 1 the the y_pred is the doc_1\n",
    "    \"\"\"\n",
    "    NOTE:\n",
    "    1. Use today's data predict tmr's\n",
    "    2. y is y * 100. /= 100 here\n",
    "    3. d~ is all percentile change\n",
    "    \"\"\"\n",
    "    if num_class == 2:\n",
    "        true_and_pred['pred_o'] = (true_and_pred['Open'] * (1 + true_and_pred['pred_do_1']))\n",
    "        true_and_pred['pred_c'] = (true_and_pred['Close'] * (1 + true_and_pred['pred_dc_1']))\n",
    "        true_and_pred['pred_doc_1'] = \\\n",
    "            (true_and_pred['pred_c'] - true_and_pred['pred_o'])/true_and_pred['pred_o']\n",
    "    elif num_class == 1:\n",
    "        pass\n",
    "    true_and_pred['doc_1'] /= 100\n",
    "    true_and_pred['pred_doc_1'] /= 100\n",
    "    \n",
    "    # Backtest\n",
    "    asset = 1\n",
    "    asset_buyhold = 1\n",
    "    asset_list = []\n",
    "    thres = 0 if normalize else 0.00\n",
    "    if num_class == 2:\n",
    "        df_backtest = true_and_pred[['Open', 'Close', 'doc_1', 'pred_doc_1', 'pred_do_1', 'pred_dc_1']].dropna()\n",
    "        acc = (np.sign(df_backtest['pred_doc_1'])==np.sign(df_backtest['doc_1'])).sum()/len(df_backtest)\n",
    "        asset = 1\n",
    "        asset_buyhold = 1\n",
    "        for index, (o, c, true, pred, _, _) in df_backtest.iterrows():\n",
    "            if pred > thres:\n",
    "                asset *= (1 + true)   \n",
    "            if short and pred < -thres:\n",
    "                asset *= (1 - true)   \n",
    "            asset_buyhold *= (1 + true)\n",
    "            asset_list.append(asset)\n",
    "    elif num_class == 1:\n",
    "        df_backtest = true_and_pred[['Close', 'pred_doc_1', 'doc_1']].dropna()\n",
    "        acc = (np.sign(df_backtest['pred_doc_1'])==np.sign(df_backtest['doc_1'])).sum()/len(df_backtest)\n",
    "        asset = 1\n",
    "        asset_buyhold = 1\n",
    "        for index, (c, pred, true) in df_backtest.iterrows():\n",
    "            # print(pred, true)\n",
    "            if pred > thres:\n",
    "                asset *= (1 + true)\n",
    "            if short and pred < -thres:\n",
    "                asset *= (1 - true)\n",
    "            asset_buyhold *= (1 + true)\n",
    "            asset_list.append(asset)\n",
    "        print(f'Buy Hold last asset: {asset_buyhold}')\n",
    "\n",
    "    print(f'Asset: {asset}')\n",
    "    plt.plot(asset_list, label = 'model')\n",
    "    plt.plot(df_backtest.reset_index()['Close']/df_backtest['Close'].iloc[0], label = 'buy hold')\n",
    "    plt.legend()\n",
    "    plt.savefig(f'Model_Result/{Model}_class{num_class}_{stock_symbol.split(\".\")[0]}_backtest')   \n",
    "    return y_pred, df_backtest"
   ]
  },
  {
   "cell_type": "markdown",
   "metadata": {},
   "source": [
    "### Backtest"
   ]
  },
  {
   "cell_type": "code",
   "execution_count": 5,
   "metadata": {},
   "outputs": [
    {
     "name": "stderr",
     "output_type": "stream",
     "text": [
      "100%|██████████| 1/1 [00:01<00:00,  1.51s/it]\n",
      "100%|██████████| 1/1 [00:00<00:00,  4.18it/s]\n"
     ]
    },
    {
     "name": "stdout",
     "output_type": "stream",
     "text": [
      "Asset: 0.9892425574848621\n"
     ]
    },
    {
     "data": {
      "image/png": "[encoded data removed]",
      "text/plain": [
       "<Figure size 640x480 with 1 Axes>"
      ]
     },
     "metadata": {},
     "output_type": "display_data"
    }
   ],
   "source": [
    "y_pred, df_b = backtest_plot()\n",
    "torch.cuda.empty_cache()"
   ]
  },
  {
   "cell_type": "code",
   "execution_count": 6,
   "metadata": {},
   "outputs": [
    {
     "data": {
      "text/html": [
       "<div>\n",
       "<style scoped>\n",
       "    .dataframe tbody tr th:only-of-type {\n",
       "        vertical-align: middle;\n",
       "    }\n",
       "\n",
       "    .dataframe tbody tr th {\n",
       "        vertical-align: top;\n",
       "    }\n",
       "\n",
       "    .dataframe thead th {\n",
       "        text-align: right;\n",
       "    }\n",
       "</style>\n",
       "<table border=\"1\" class=\"dataframe\">\n",
       "  <thead>\n",
       "    <tr style=\"text-align: right;\">\n",
       "      <th></th>\n",
       "      <th>Open</th>\n",
       "      <th>Close</th>\n",
       "      <th>doc_1</th>\n",
       "      <th>pred_doc_1</th>\n",
       "      <th>pred_do_1</th>\n",
       "      <th>pred_dc_1</th>\n",
       "    </tr>\n",
       "  </thead>\n",
       "  <tbody>\n",
       "    <tr>\n",
       "      <th>2802</th>\n",
       "      <td>203.694111</td>\n",
       "      <td>200.370438</td>\n",
       "      <td>0.000000</td>\n",
       "      <td>-0.000086</td>\n",
       "      <td>0.186514</td>\n",
       "      <td>0.195874</td>\n",
       "    </tr>\n",
       "    <tr>\n",
       "      <th>2803</th>\n",
       "      <td>201.320068</td>\n",
       "      <td>201.320068</td>\n",
       "      <td>-0.021327</td>\n",
       "      <td>-0.000120</td>\n",
       "      <td>0.226247</td>\n",
       "      <td>0.211518</td>\n",
       "    </tr>\n",
       "    <tr>\n",
       "      <th>2804</th>\n",
       "      <td>200.370450</td>\n",
       "      <td>196.097137</td>\n",
       "      <td>-0.004878</td>\n",
       "      <td>-0.001157</td>\n",
       "      <td>0.241721</td>\n",
       "      <td>0.121994</td>\n",
       "    </tr>\n",
       "    <tr>\n",
       "      <th>2805</th>\n",
       "      <td>194.672707</td>\n",
       "      <td>193.723083</td>\n",
       "      <td>0.000000</td>\n",
       "      <td>-0.000438</td>\n",
       "      <td>0.217178</td>\n",
       "      <td>0.169534</td>\n",
       "    </tr>\n",
       "    <tr>\n",
       "      <th>2806</th>\n",
       "      <td>194.672699</td>\n",
       "      <td>194.672699</td>\n",
       "      <td>0.007282</td>\n",
       "      <td>-0.000312</td>\n",
       "      <td>0.149856</td>\n",
       "      <td>0.113931</td>\n",
       "    </tr>\n",
       "    <tr>\n",
       "      <th>...</th>\n",
       "      <td>...</td>\n",
       "      <td>...</td>\n",
       "      <td>...</td>\n",
       "      <td>...</td>\n",
       "      <td>...</td>\n",
       "      <td>...</td>\n",
       "    </tr>\n",
       "    <tr>\n",
       "      <th>2957</th>\n",
       "      <td>173.500000</td>\n",
       "      <td>172.500000</td>\n",
       "      <td>0.014535</td>\n",
       "      <td>-0.000085</td>\n",
       "      <td>0.304364</td>\n",
       "      <td>0.300747</td>\n",
       "    </tr>\n",
       "    <tr>\n",
       "      <th>2958</th>\n",
       "      <td>172.000000</td>\n",
       "      <td>174.500000</td>\n",
       "      <td>0.008596</td>\n",
       "      <td>0.000591</td>\n",
       "      <td>0.227414</td>\n",
       "      <td>0.281350</td>\n",
       "    </tr>\n",
       "    <tr>\n",
       "      <th>2959</th>\n",
       "      <td>174.500000</td>\n",
       "      <td>176.000000</td>\n",
       "      <td>0.005714</td>\n",
       "      <td>0.001065</td>\n",
       "      <td>0.183240</td>\n",
       "      <td>0.298153</td>\n",
       "    </tr>\n",
       "    <tr>\n",
       "      <th>2960</th>\n",
       "      <td>175.000000</td>\n",
       "      <td>176.000000</td>\n",
       "      <td>0.014164</td>\n",
       "      <td>0.000451</td>\n",
       "      <td>0.206053</td>\n",
       "      <td>0.253241</td>\n",
       "    </tr>\n",
       "    <tr>\n",
       "      <th>2961</th>\n",
       "      <td>176.500000</td>\n",
       "      <td>179.000000</td>\n",
       "      <td>-0.005618</td>\n",
       "      <td>0.000457</td>\n",
       "      <td>0.239947</td>\n",
       "      <td>0.278559</td>\n",
       "    </tr>\n",
       "  </tbody>\n",
       "</table>\n",
       "<p>160 rows × 6 columns</p>\n",
       "</div>"
      ],
      "text/plain": [
       "            Open       Close     doc_1  pred_doc_1  pred_do_1  pred_dc_1\n",
       "2802  203.694111  200.370438  0.000000   -0.000086   0.186514   0.195874\n",
       "2803  201.320068  201.320068 -0.021327   -0.000120   0.226247   0.211518\n",
       "2804  200.370450  196.097137 -0.004878   -0.001157   0.241721   0.121994\n",
       "2805  194.672707  193.723083  0.000000   -0.000438   0.217178   0.169534\n",
       "2806  194.672699  194.672699  0.007282   -0.000312   0.149856   0.113931\n",
       "...          ...         ...       ...         ...        ...        ...\n",
       "2957  173.500000  172.500000  0.014535   -0.000085   0.304364   0.300747\n",
       "2958  172.000000  174.500000  0.008596    0.000591   0.227414   0.281350\n",
       "2959  174.500000  176.000000  0.005714    0.001065   0.183240   0.298153\n",
       "2960  175.000000  176.000000  0.014164    0.000451   0.206053   0.253241\n",
       "2961  176.500000  179.000000 -0.005618    0.000457   0.239947   0.278559\n",
       "\n",
       "[160 rows x 6 columns]"
      ]
     },
     "execution_count": 6,
     "metadata": {},
     "output_type": "execute_result"
    }
   ],
   "source": [
    "df_b"
   ]
  }
 ],
 "metadata": {
  "kernelspec": {
   "display_name": "mlntu",
   "language": "python",
   "name": "python3"
  },
  "language_info": {
   "codemirror_mode": {
    "name": "ipython",
    "version": 3
   },
   "file_extension": ".py",
   "mimetype": "text/x-python",
   "name": "python",
   "nbconvert_exporter": "python",
   "pygments_lexer": "ipython3",
   "version": "3.10.13"
  }
 },
 "nbformat": 4,
 "nbformat_minor": 2
}
