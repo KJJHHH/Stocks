{
 "cells": [
  {
   "cell_type": "markdown",
   "metadata": {},
   "source": [
    "# Trade with AI\n",
    "### Asset Allocation\n",
    "- **One Stock**: Trading with several strategies:\n",
    "    - Ensemble model for **computer vision** based model and **transformer** based model\n",
    "    - **Sentiment Analysis**\n",
    "    - **Technical Analysis**\n",
    "- **Portfolio**: Build long-term portfolio"
   ]
  }
 ],
 "metadata": {
  "kernelspec": {
   "display_name": "quant",
   "language": "python",
   "name": "python3"
  },
  "language_info": {
   "codemirror_mode": {
    "name": "ipython",
    "version": 3
   },
   "file_extension": ".py",
   "mimetype": "text/x-python",
   "name": "python",
   "nbconvert_exporter": "python",
   "pygments_lexer": "ipython3",
   "version": "3.11.9"
  }
 },
 "nbformat": 4,
 "nbformat_minor": 2
}
