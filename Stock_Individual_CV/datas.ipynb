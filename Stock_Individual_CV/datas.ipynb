{
 "cells": [
  {
   "cell_type": "code",
   "execution_count": 1,
   "metadata": {},
   "outputs": [],
   "source": [
    "import numpy as np\n",
    "import matplotlib.pyplot as plt\n",
    "from sklearn.preprocessing import MinMaxScaler\n",
    "import yfinance as yf\n",
    "import numpy as np\n",
    "import os\n",
    "import pickle\n",
    "import gc\n",
    "from tqdm import tqdm\n",
    "import torch\n",
    "import torch.nn as nn\n",
    "from torch.utils.data import DataLoader, TensorDataset\n",
    "from sklearn.preprocessing import Normalizer, StandardScaler\n",
    "from utils import *"
   ]
  },
  {
   "cell_type": "code",
   "execution_count": 2,
   "metadata": {},
   "outputs": [
    {
     "name": "stderr",
     "output_type": "stream",
     "text": [
      "/home/jacob/anaconda3/envs/mlntu/lib/python3.10/site-packages/yfinance/utils.py:775: FutureWarning: The 'unit' keyword in TimedeltaIndex construction is deprecated and will be removed in a future version. Use pd.to_timedelta instead.\n",
      "  df.index += _pd.TimedeltaIndex(dst_error_hours, 'h')\n",
      "/tmp/ipykernel_288517/3308488612.py:38: SettingWithCopyWarning: \n",
      "A value is trying to be set on a copy of a slice from a DataFrame.\n",
      "Try using .loc[row_indexer,col_indexer] = value instead\n",
      "\n",
      "See the caveats in the documentation: https://pandas.pydata.org/pandas-docs/stable/user_guide/indexing.html#returning-a-view-versus-a-copy\n",
      "  df['Close_origin'] = df['Close']\n",
      "/tmp/ipykernel_288517/3308488612.py:41: SettingWithCopyWarning: \n",
      "A value is trying to be set on a copy of a slice from a DataFrame.\n",
      "Try using .loc[row_indexer,col_indexer] = value instead\n",
      "\n",
      "See the caveats in the documentation: https://pandas.pydata.org/pandas-docs/stable/user_guide/indexing.html#returning-a-view-versus-a-copy\n",
      "  df[['do', 'dh', 'dl', 'dc', 'dv', 'Close']] = scaler.fit_transform(df[['do', 'dh', 'dl', 'dc', 'dv', 'Close']])\n"
     ]
    }
   ],
   "source": [
    "stock_symbol = '5871.TW'\n",
    "device = torch.device('cuda' if torch.cuda.is_available() else 'cpu')\n",
    "end_date = '2024-12-31'\n",
    "\n",
    "# 擷取股票價格資訊\n",
    "scaler = StandardScaler()\n",
    "stock_price_data = fetch_stock_price(stock_symbol=stock_symbol, start_date='2012-01-02',end_date=end_date)\n",
    "\n",
    "\"\"\"\n",
    "pctchange: (today - yesterday)/yesterday\n",
    "\"\"\"\n",
    "stock_price_data['do'] = stock_price_data['Open'].pct_change() * 100\n",
    "stock_price_data['dh'] = stock_price_data['High'].pct_change() * 100\n",
    "stock_price_data['dl'] = stock_price_data['Low'].pct_change() * 100\n",
    "stock_price_data['dc'] = stock_price_data['Close'].pct_change() * 100\n",
    "stock_price_data['dv'] = stock_price_data['Volume'].pct_change() * 100\n",
    "\n",
    "\"\"\"\n",
    "do_1, dc_1, doc_1: tmr's information\n",
    "\"\"\"\n",
    "stock_price_data['do_1'] = stock_price_data['do'].shift(-1)\n",
    "stock_price_data['dc_1'] = stock_price_data['dc'].shift(-1)\n",
    "stock_price_data['doc_1'] = \\\n",
    "    ((stock_price_data['Close'].shift(-1) - stock_price_data['Open'].shift(-1))/stock_price_data['Open'].shift(-1))\\\n",
    "    *100\n",
    "\n",
    "stock_price_data = stock_price_data.dropna()\n",
    "\n",
    "# df = stock_price_data.iloc[:,7:]\n",
    "df = stock_price_data\n",
    "# Replace infinite values with NaN\n",
    "df.replace([np.inf, -np.inf], np.nan, inplace=True)\n",
    "\n",
    "# Drop rows with NaN values\n",
    "df = df.dropna()\n",
    "\n",
    "# scaling\n",
    "df['Close_origin'] = df['Close']\n",
    "scaler = StandardScaler()\n",
    "scaler.fit(df[['do', 'dh', 'dl', 'dc', 'dv', 'Close']][:2000])\n",
    "df[['do', 'dh', 'dl', 'dc', 'dv', 'Close']] = scaler.fit_transform(df[['do', 'dh', 'dl', 'dc', 'dv', 'Close']])\n"
   ]
  },
  {
   "cell_type": "code",
   "execution_count": 3,
   "metadata": {},
   "outputs": [
    {
     "name": "stderr",
     "output_type": "stream",
     "text": [
      "100%|██████████| 2850/2850 [00:03<00:00, 931.37it/s] \n",
      "100%|██████████| 2850/2850 [00:06<00:00, 448.91it/s]\n"
     ]
    },
    {
     "data": {
      "text/plain": [
       "(torch.Size([2052, 5, 100, 100]),\n",
       " (2052, 2),\n",
       " torch.Size([513, 5, 100, 100]),\n",
       " (513, 2),\n",
       " torch.Size([285, 5, 100, 100]),\n",
       " (285, 2))"
      ]
     },
     "execution_count": 3,
     "metadata": {},
     "output_type": "execute_result"
    }
   ],
   "source": [
    "num_class = 2\n",
    "batch_size = 16\n",
    "\n",
    "x, y, date = window_x_y(df, num_class, 100)\n",
    "X = process_x(x)\n",
    "X, x_test, y, y_test = train_test(X, y)\n",
    "x_train, x_valid, y_train, y_valid = train_valid(X, y)\n",
    "\n",
    "\"\"\" Standard\n",
    "mean = torch.mean(x_train)\n",
    "std = torch.std(x_train)\n",
    "print(std)\n",
    "x_train = normalize(x_train, mean, std)\n",
    "mean = torch.mean(x_valid)\n",
    "std = torch.std(x_valid)\n",
    "print(std)\n",
    "x_valid = normalize(x_valid, mean, std)\n",
    "x_test = normalize(x_test, mean, std)\n",
    "\"\"\"\n",
    "\n",
    "\"\"\"\n",
    "Shape should be (batch, 5, 100, 100) (batch, num_class)\n",
    "\"\"\"\n",
    "x_train.shape, y_train.shape, x_valid.shape, y_valid.shape, x_test.shape, y_test.shape"
   ]
  },
  {
   "cell_type": "markdown",
   "metadata": {},
   "source": [
    "### Double"
   ]
  },
  {
   "cell_type": "code",
   "execution_count": 4,
   "metadata": {},
   "outputs": [
    {
     "name": "stderr",
     "output_type": "stream",
     "text": [
      "/tmp/ipykernel_288517/1618197089.py:3: UserWarning: To copy construct from a tensor, it is recommended to use sourceTensor.clone().detach() or sourceTensor.clone().detach().requires_grad_(True), rather than torch.tensor(sourceTensor).\n",
      "  torch.tensor(x_train).to(dtype=torch.float32),\n",
      "/tmp/ipykernel_288517/1618197089.py:7: UserWarning: To copy construct from a tensor, it is recommended to use sourceTensor.clone().detach() or sourceTensor.clone().detach().requires_grad_(True), rather than torch.tensor(sourceTensor).\n",
      "  torch.tensor(x_valid).to(dtype=torch.float32),\n",
      "/tmp/ipykernel_288517/1618197089.py:11: UserWarning: To copy construct from a tensor, it is recommended to use sourceTensor.clone().detach() or sourceTensor.clone().detach().requires_grad_(True), rather than torch.tensor(sourceTensor).\n",
      "  torch.tensor(x_test).to(dtype=torch.float32),\n"
     ]
    }
   ],
   "source": [
    "\n",
    "trainloader, validloader, testloader = (\n",
    "    loader(\n",
    "        torch.tensor(x_train).to(dtype=torch.float32), \n",
    "        torch.tensor(y_train).to(dtype=torch.float32), \n",
    "        batch_size=batch_size), \n",
    "    loader(\n",
    "        torch.tensor(x_valid).to(dtype=torch.float32), \n",
    "        torch.tensor(y_valid).to(dtype=torch.float32), \n",
    "        batch_size=batch_size),\n",
    "    loader(\n",
    "        torch.tensor(x_test).to(dtype=torch.float32), \n",
    "        torch.tensor(y_test).to(dtype=torch.float32), \n",
    "        batch_size=batch_size)\n",
    "    )    \n",
    "\n",
    "test_date = df.index[-len(y_test):]\n",
    "\n",
    "src = use_src(df)\n",
    "src = torch.tensor(src).to(dtype=torch.float32).unsqueeze(0).repeat(batch_size, 1, 1)\n",
    "\n",
    "if num_class == 1:\n",
    "    with open('./DataLoader/dataloader_1.pk', 'wb') as f:\n",
    "        pickle.dump({'trainloader': trainloader, 'validloader': validloader, 'testloader': testloader}, f)\n",
    "elif num_class == 2:\n",
    "    with open('./DataLoader/dataloader.pk', 'wb') as f:\n",
    "        pickle.dump({'trainloader': trainloader, 'validloader': validloader, 'testloader': testloader}, f)\n",
    "with open('DataLoader/dates.pk', 'wb') as f:\n",
    "    pickle.dump({'test': test_date}, f)\n",
    "with open('DataLoader/data_clean.pk', 'wb') as f:\n",
    "    pickle.dump(df, f)\n",
    "with open('DataLoader/src.pk', 'wb') as f:\n",
    "    pickle.dump(src, f)"
   ]
  },
  {
   "cell_type": "markdown",
   "metadata": {},
   "source": [
    "### Half"
   ]
  },
  {
   "cell_type": "code",
   "execution_count": 5,
   "metadata": {},
   "outputs": [
    {
     "name": "stderr",
     "output_type": "stream",
     "text": [
      "/tmp/ipykernel_288517/177286498.py:3: UserWarning: To copy construct from a tensor, it is recommended to use sourceTensor.clone().detach() or sourceTensor.clone().detach().requires_grad_(True), rather than torch.tensor(sourceTensor).\n",
      "  torch.tensor(x_train).to(dtype=torch.float16),\n",
      "/tmp/ipykernel_288517/177286498.py:7: UserWarning: To copy construct from a tensor, it is recommended to use sourceTensor.clone().detach() or sourceTensor.clone().detach().requires_grad_(True), rather than torch.tensor(sourceTensor).\n",
      "  torch.tensor(x_valid).to(dtype=torch.float16),\n",
      "/tmp/ipykernel_288517/177286498.py:11: UserWarning: To copy construct from a tensor, it is recommended to use sourceTensor.clone().detach() or sourceTensor.clone().detach().requires_grad_(True), rather than torch.tensor(sourceTensor).\n",
      "  torch.tensor(x_test).to(dtype=torch.float16),\n"
     ]
    }
   ],
   "source": [
    "trainloader, validloader, testloader = (\n",
    "    loader(\n",
    "        torch.tensor(x_train).to(dtype=torch.float16), \n",
    "        torch.tensor(y_train).to(dtype=torch.float16), \n",
    "        batch_size=batch_size), \n",
    "    loader(\n",
    "        torch.tensor(x_valid).to(dtype=torch.float16), \n",
    "        torch.tensor(y_valid).to(dtype=torch.float16), \n",
    "        batch_size=batch_size),\n",
    "    loader(\n",
    "        torch.tensor(x_test).to(dtype=torch.float16), \n",
    "        torch.tensor(y_test).to(dtype=torch.float16), \n",
    "        batch_size=batch_size)\n",
    "    )    \n",
    "\n",
    "test_date = df.index[-len(y_test):]\n",
    "\n",
    "src = use_src(df)\n",
    "src = torch.tensor(src).to(dtype=torch.float16).unsqueeze(0).repeat(batch_size, 1, 1)\n",
    "\n",
    "if num_class == 1:\n",
    "    with open('./DataLoader/dataloader_1_half.pk', 'wb') as f:\n",
    "        pickle.dump({'trainloader': trainloader, 'validloader': validloader, 'testloader': testloader}, f)\n",
    "elif num_class == 2:\n",
    "    with open('./DataLoader/dataloader_half.pk', 'wb') as f:\n",
    "        pickle.dump({'trainloader': trainloader, 'validloader': validloader, 'testloader': testloader}, f)\n",
    "with open('DataLoader/src_half.pk', 'wb') as f:\n",
    "    pickle.dump(src, f)"
   ]
  },
  {
   "cell_type": "code",
   "execution_count": 6,
   "metadata": {},
   "outputs": [
    {
     "data": {
      "text/plain": [
       "'torch.max(torch.abs(x_train)), torch.min(torch.std(x_train, dim=0))\\ntorch.std(x_train, dim=0)\\nx_train.shape, x_train[0, 0]'"
      ]
     },
     "execution_count": 6,
     "metadata": {},
     "output_type": "execute_result"
    }
   ],
   "source": [
    "\"\"\"torch.max(torch.abs(x_train)), torch.min(torch.std(x_train, dim=0))\n",
    "torch.std(x_train, dim=0)\n",
    "x_train.shape, x_train[0, 0]\"\"\""
   ]
  },
  {
   "cell_type": "code",
   "execution_count": 7,
   "metadata": {},
   "outputs": [
    {
     "data": {
      "text/html": [
       "<div>\n",
       "<style scoped>\n",
       "    .dataframe tbody tr th:only-of-type {\n",
       "        vertical-align: middle;\n",
       "    }\n",
       "\n",
       "    .dataframe tbody tr th {\n",
       "        vertical-align: top;\n",
       "    }\n",
       "\n",
       "    .dataframe thead th {\n",
       "        text-align: right;\n",
       "    }\n",
       "</style>\n",
       "<table border=\"1\" class=\"dataframe\">\n",
       "  <thead>\n",
       "    <tr style=\"text-align: right;\">\n",
       "      <th></th>\n",
       "      <th>0</th>\n",
       "      <th>1</th>\n",
       "    </tr>\n",
       "    <tr>\n",
       "      <th>Date</th>\n",
       "      <th></th>\n",
       "      <th></th>\n",
       "    </tr>\n",
       "  </thead>\n",
       "  <tbody>\n",
       "    <tr>\n",
       "      <th>2022-12-13 00:00:00+08:00</th>\n",
       "      <td>-2.311749e-07</td>\n",
       "      <td>1.909308</td>\n",
       "    </tr>\n",
       "    <tr>\n",
       "      <th>2022-12-14 00:00:00+08:00</th>\n",
       "      <td>1.182037e+00</td>\n",
       "      <td>2.810305</td>\n",
       "    </tr>\n",
       "    <tr>\n",
       "      <th>2022-12-15 00:00:00+08:00</th>\n",
       "      <td>2.336453e-01</td>\n",
       "      <td>-2.277901</td>\n",
       "    </tr>\n",
       "    <tr>\n",
       "      <th>2022-12-16 00:00:00+08:00</th>\n",
       "      <td>-6.992993e-01</td>\n",
       "      <td>1.631704</td>\n",
       "    </tr>\n",
       "    <tr>\n",
       "      <th>2022-12-19 00:00:00+08:00</th>\n",
       "      <td>1.643188e+00</td>\n",
       "      <td>-2.064226</td>\n",
       "    </tr>\n",
       "    <tr>\n",
       "      <th>...</th>\n",
       "      <td>...</td>\n",
       "      <td>...</td>\n",
       "    </tr>\n",
       "    <tr>\n",
       "      <th>2024-02-19 00:00:00+08:00</th>\n",
       "      <td>8.670520e-01</td>\n",
       "      <td>2.011494</td>\n",
       "    </tr>\n",
       "    <tr>\n",
       "      <th>2024-02-20 00:00:00+08:00</th>\n",
       "      <td>1.719198e+00</td>\n",
       "      <td>-0.845070</td>\n",
       "    </tr>\n",
       "    <tr>\n",
       "      <th>2024-02-21 00:00:00+08:00</th>\n",
       "      <td>-5.633803e-01</td>\n",
       "      <td>0.000000</td>\n",
       "    </tr>\n",
       "    <tr>\n",
       "      <th>2024-02-22 00:00:00+08:00</th>\n",
       "      <td>-5.665722e-01</td>\n",
       "      <td>0.000000</td>\n",
       "    </tr>\n",
       "    <tr>\n",
       "      <th>2024-02-23 00:00:00+08:00</th>\n",
       "      <td>2.849003e-01</td>\n",
       "      <td>-1.704545</td>\n",
       "    </tr>\n",
       "  </tbody>\n",
       "</table>\n",
       "<p>285 rows × 2 columns</p>\n",
       "</div>"
      ],
      "text/plain": [
       "                                      0         1\n",
       "Date                                             \n",
       "2022-12-13 00:00:00+08:00 -2.311749e-07  1.909308\n",
       "2022-12-14 00:00:00+08:00  1.182037e+00  2.810305\n",
       "2022-12-15 00:00:00+08:00  2.336453e-01 -2.277901\n",
       "2022-12-16 00:00:00+08:00 -6.992993e-01  1.631704\n",
       "2022-12-19 00:00:00+08:00  1.643188e+00 -2.064226\n",
       "...                                 ...       ...\n",
       "2024-02-19 00:00:00+08:00  8.670520e-01  2.011494\n",
       "2024-02-20 00:00:00+08:00  1.719198e+00 -0.845070\n",
       "2024-02-21 00:00:00+08:00 -5.633803e-01  0.000000\n",
       "2024-02-22 00:00:00+08:00 -5.665722e-01  0.000000\n",
       "2024-02-23 00:00:00+08:00  2.849003e-01 -1.704545\n",
       "\n",
       "[285 rows x 2 columns]"
      ]
     },
     "execution_count": 7,
     "metadata": {},
     "output_type": "execute_result"
    }
   ],
   "source": [
    "import pandas as pd\n",
    "pd.DataFrame(y_test).set_index(df.index[-len(y_test):])"
   ]
  }
 ],
 "metadata": {
  "kernelspec": {
   "display_name": "mlntu",
   "language": "python",
   "name": "python3"
  },
  "language_info": {
   "codemirror_mode": {
    "name": "ipython",
    "version": 3
   },
   "file_extension": ".py",
   "mimetype": "text/x-python",
   "name": "python",
   "nbconvert_exporter": "python",
   "pygments_lexer": "ipython3",
   "version": "3.10.13"
  }
 },
 "nbformat": 4,
 "nbformat_minor": 2
}
